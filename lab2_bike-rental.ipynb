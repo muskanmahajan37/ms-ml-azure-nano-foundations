{
 "cells": [
  {
   "cell_type": "markdown",
   "metadata": {},
   "source": [
    "## Lab 3 - Linear Regression\n",
    "#### Jupyter Notebook by Aleem Juma"
   ]
  },
  {
   "cell_type": "markdown",
   "metadata": {},
   "source": [
    "### Import the libraries we need"
   ]
  },
  {
   "cell_type": "code",
   "execution_count": 1,
   "metadata": {
    "ExecuteTime": {
     "end_time": "2020-07-16T22:42:29.733113Z",
     "start_time": "2020-07-16T22:42:22.620130Z"
    }
   },
   "outputs": [],
   "source": [
    "# data manipulation\n",
    "import pandas as pd\n",
    "import numpy as np\n",
    "\n",
    "# data modeling\n",
    "from sklearn.model_selection import train_test_split\n",
    "from sklearn.ensemble import GradientBoostingRegressor\n",
    "\n",
    "# data visualization\n",
    "import matplotlib.pyplot as plt"
   ]
  },
  {
   "cell_type": "markdown",
   "metadata": {},
   "source": [
    "### Data ingestion\n",
    "Here we specify the data source, download the data and read it into a DataFrame"
   ]
  },
  {
   "cell_type": "code",
   "execution_count": 2,
   "metadata": {
    "ExecuteTime": {
     "end_time": "2020-07-16T22:42:31.702844Z",
     "start_time": "2020-07-16T22:42:29.738097Z"
    }
   },
   "outputs": [
    {
     "data": {
      "text/html": [
       "<div>\n",
       "<style scoped>\n",
       "    .dataframe tbody tr th:only-of-type {\n",
       "        vertical-align: middle;\n",
       "    }\n",
       "\n",
       "    .dataframe tbody tr th {\n",
       "        vertical-align: top;\n",
       "    }\n",
       "\n",
       "    .dataframe thead th {\n",
       "        text-align: right;\n",
       "    }\n",
       "</style>\n",
       "<table border=\"1\" class=\"dataframe\">\n",
       "  <thead>\n",
       "    <tr style=\"text-align: right;\">\n",
       "      <th></th>\n",
       "      <th>instant</th>\n",
       "      <th>dteday</th>\n",
       "      <th>season</th>\n",
       "      <th>yr</th>\n",
       "      <th>mnth</th>\n",
       "      <th>hr</th>\n",
       "      <th>holiday</th>\n",
       "      <th>weekday</th>\n",
       "      <th>workingday</th>\n",
       "      <th>weathersit</th>\n",
       "      <th>temp</th>\n",
       "      <th>atemp</th>\n",
       "      <th>hum</th>\n",
       "      <th>windspeed</th>\n",
       "      <th>casual</th>\n",
       "      <th>registered</th>\n",
       "      <th>cnt</th>\n",
       "    </tr>\n",
       "  </thead>\n",
       "  <tbody>\n",
       "    <tr>\n",
       "      <th>0</th>\n",
       "      <td>1</td>\n",
       "      <td>2011-01-01</td>\n",
       "      <td>1</td>\n",
       "      <td>0</td>\n",
       "      <td>1</td>\n",
       "      <td>0</td>\n",
       "      <td>0</td>\n",
       "      <td>6</td>\n",
       "      <td>0</td>\n",
       "      <td>1</td>\n",
       "      <td>0.24</td>\n",
       "      <td>0.2879</td>\n",
       "      <td>0.81</td>\n",
       "      <td>0.0</td>\n",
       "      <td>3</td>\n",
       "      <td>13</td>\n",
       "      <td>16</td>\n",
       "    </tr>\n",
       "    <tr>\n",
       "      <th>1</th>\n",
       "      <td>2</td>\n",
       "      <td>2011-01-01</td>\n",
       "      <td>1</td>\n",
       "      <td>0</td>\n",
       "      <td>1</td>\n",
       "      <td>1</td>\n",
       "      <td>0</td>\n",
       "      <td>6</td>\n",
       "      <td>0</td>\n",
       "      <td>1</td>\n",
       "      <td>0.22</td>\n",
       "      <td>0.2727</td>\n",
       "      <td>0.80</td>\n",
       "      <td>0.0</td>\n",
       "      <td>8</td>\n",
       "      <td>32</td>\n",
       "      <td>40</td>\n",
       "    </tr>\n",
       "    <tr>\n",
       "      <th>2</th>\n",
       "      <td>3</td>\n",
       "      <td>2011-01-01</td>\n",
       "      <td>1</td>\n",
       "      <td>0</td>\n",
       "      <td>1</td>\n",
       "      <td>2</td>\n",
       "      <td>0</td>\n",
       "      <td>6</td>\n",
       "      <td>0</td>\n",
       "      <td>1</td>\n",
       "      <td>0.22</td>\n",
       "      <td>0.2727</td>\n",
       "      <td>0.80</td>\n",
       "      <td>0.0</td>\n",
       "      <td>5</td>\n",
       "      <td>27</td>\n",
       "      <td>32</td>\n",
       "    </tr>\n",
       "    <tr>\n",
       "      <th>3</th>\n",
       "      <td>4</td>\n",
       "      <td>2011-01-01</td>\n",
       "      <td>1</td>\n",
       "      <td>0</td>\n",
       "      <td>1</td>\n",
       "      <td>3</td>\n",
       "      <td>0</td>\n",
       "      <td>6</td>\n",
       "      <td>0</td>\n",
       "      <td>1</td>\n",
       "      <td>0.24</td>\n",
       "      <td>0.2879</td>\n",
       "      <td>0.75</td>\n",
       "      <td>0.0</td>\n",
       "      <td>3</td>\n",
       "      <td>10</td>\n",
       "      <td>13</td>\n",
       "    </tr>\n",
       "    <tr>\n",
       "      <th>4</th>\n",
       "      <td>5</td>\n",
       "      <td>2011-01-01</td>\n",
       "      <td>1</td>\n",
       "      <td>0</td>\n",
       "      <td>1</td>\n",
       "      <td>4</td>\n",
       "      <td>0</td>\n",
       "      <td>6</td>\n",
       "      <td>0</td>\n",
       "      <td>1</td>\n",
       "      <td>0.24</td>\n",
       "      <td>0.2879</td>\n",
       "      <td>0.75</td>\n",
       "      <td>0.0</td>\n",
       "      <td>0</td>\n",
       "      <td>1</td>\n",
       "      <td>1</td>\n",
       "    </tr>\n",
       "  </tbody>\n",
       "</table>\n",
       "</div>"
      ],
      "text/plain": [
       "   instant      dteday  season  yr  mnth  hr  holiday  weekday  workingday  \\\n",
       "0        1  2011-01-01       1   0     1   0        0        6           0   \n",
       "1        2  2011-01-01       1   0     1   1        0        6           0   \n",
       "2        3  2011-01-01       1   0     1   2        0        6           0   \n",
       "3        4  2011-01-01       1   0     1   3        0        6           0   \n",
       "4        5  2011-01-01       1   0     1   4        0        6           0   \n",
       "\n",
       "   weathersit  temp   atemp   hum  windspeed  casual  registered  cnt  \n",
       "0           1  0.24  0.2879  0.81        0.0       3          13   16  \n",
       "1           1  0.22  0.2727  0.80        0.0       8          32   40  \n",
       "2           1  0.22  0.2727  0.80        0.0       5          27   32  \n",
       "3           1  0.24  0.2879  0.75        0.0       3          10   13  \n",
       "4           1  0.24  0.2879  0.75        0.0       0           1    1  "
      ]
     },
     "execution_count": 2,
     "metadata": {},
     "output_type": "execute_result"
    }
   ],
   "source": [
    "url = 'https://introtomlsampledata.blob.core.windows.net/data/bike-rental/bike-rental-hour.csv'\n",
    "df = pd.read_csv(url)\n",
    "df.head()"
   ]
  },
  {
   "cell_type": "markdown",
   "metadata": {},
   "source": [
    "### Data cleaning\n",
    "* Set the `season` and `weathersit` columns to categorical\n",
    "* Remove the `instant`, `dteday`, `casual` and `registered` columns"
   ]
  },
  {
   "cell_type": "markdown",
   "metadata": {},
   "source": [
    "Let's pause and think for a minute why these steps are being taken.\n",
    "\n",
    "#### Categorical features\n",
    "\n",
    "From the first few rows of the data you can see that the `season` and `weathersit` columns are numerical. That's great, isn't it? We like working with numerical data. Well in this case these fields are not meant to be dealt with in a numerical way as the numbers would indicate that one season or one weather type is \"more\" than another when this is not the case. So we mark these as categorical columns. If you want to review this check back to [Lesson 2 Concept 6](https://classroom.udacity.com/nanodegrees/nd00332/parts/9e5002de-e740-4eb2-aa15-03861fff12fc/modules/ae74a72a-97c1-4306-b55e-708c58118bd2/lessons/8bb9ac45-d2ec-4d22-99e1-d75455c86d9a/concepts/308d916e-91e0-405c-b7c5-26bb94bc73f4) and [Lesson 2 Concept 9](https://classroom.udacity.com/nanodegrees/nd00332/parts/9e5002de-e740-4eb2-aa15-03861fff12fc/modules/ae74a72a-97c1-4306-b55e-708c58118bd2/lessons/8bb9ac45-d2ec-4d22-99e1-d75455c86d9a/concepts/82000bfc-2670-41c8-820b-e8fc6d4cca83).\n",
    "\n",
    "\n",
    "#### Drop unnecessary or unwanted features\n",
    "\n",
    "We have many features indicating the timeline, some of which are obviously highly correlated. We should drop the columns `instant` and `dteday`.\n",
    "\n",
    "The `casual` and `registered` columns just split the count between rental types so they are perfectly correlated with our target variable. We don't want the model to simply learn how to add so we drop those too.\n",
    "\n",
    "If we were to go further, another example would be that the `atemp` field is a normalized version of `temp` so we should drop `temp` also but this demo did not do that."
   ]
  },
  {
   "cell_type": "code",
   "execution_count": 3,
   "metadata": {
    "ExecuteTime": {
     "end_time": "2020-07-16T22:42:31.750717Z",
     "start_time": "2020-07-16T22:42:31.711819Z"
    }
   },
   "outputs": [],
   "source": [
    "dataset = df.drop(columns=['instant','dteday','casual','registered'])\n",
    "cat_cols = ['weathersit','season']\n",
    "for col in cat_cols:\n",
    "    dataset[col] = dataset[col].astype('category')"
   ]
  },
  {
   "cell_type": "markdown",
   "metadata": {},
   "source": [
    "#### New features\n",
    "We want to find out whether previous hour total counts are a good indicator of the current hour's total count. To answer this question we need to add in to each hour, new columns that show the total counts for the previous 12 hours. To do this we use the pandas `shift` function. Note that we don't have the previous 12 hours for the first few rows so we need to specify that we want to fill those with `na`."
   ]
  },
  {
   "cell_type": "code",
   "execution_count": 4,
   "metadata": {
    "ExecuteTime": {
     "end_time": "2020-07-16T22:42:31.828509Z",
     "start_time": "2020-07-16T22:42:31.758695Z"
    }
   },
   "outputs": [],
   "source": [
    "for i in range(12):\n",
    "    prev_col_name = 'cnt' if i == 0 else 'Rentals in hour -{}'.format(i)\n",
    "    new_col_name = 'Rentals in hour -{}'.format(i+1)\n",
    "    dataset[new_col_name] = dataset[prev_col_name].shift(1).fillna(0)"
   ]
  },
  {
   "cell_type": "markdown",
   "metadata": {},
   "source": [
    "### Data preparation\n",
    "We split the data into a training set and a test set and identify the target and feature columns\n",
    "\n",
    "split the data based on the `yr` column, so we need to remove that column before we train the model."
   ]
  },
  {
   "cell_type": "code",
   "execution_count": 5,
   "metadata": {
    "ExecuteTime": {
     "end_time": "2020-07-16T22:42:31.896325Z",
     "start_time": "2020-07-16T22:42:31.835491Z"
    }
   },
   "outputs": [
    {
     "name": "stdout",
     "output_type": "stream",
     "text": [
      "[(8645, 24), (8734, 24), (8645,), (8734,)]\n"
     ]
    }
   ],
   "source": [
    "train_X = dataset[dataset.yr==0]\n",
    "test_X = dataset[dataset.yr==1]\n",
    "train_y = train_X.pop('cnt')\n",
    "test_y = test_X.pop('cnt')\n",
    "print([d.shape for d in [train_X, test_X, train_y, test_y]])"
   ]
  },
  {
   "cell_type": "markdown",
   "metadata": {},
   "source": [
    "### Train model\n",
    "We instantiate the `GradientBoostingRegressor` class from `scikit-learn` and set it up with the same parameters from the lab."
   ]
  },
  {
   "cell_type": "code",
   "execution_count": 6,
   "metadata": {
    "ExecuteTime": {
     "end_time": "2020-07-16T22:42:38.520651Z",
     "start_time": "2020-07-16T22:42:31.904306Z"
    }
   },
   "outputs": [],
   "source": [
    "model = GradientBoostingRegressor(\n",
    "    min_samples_leaf=10, max_leaf_nodes=20,\n",
    "    n_estimators=100, learning_rate=0.2,\n",
    "    random_state=0, loss='ls')\n",
    "model.fit(train_X, train_y.values.ravel())\n",
    "pred_y = model.predict(test_X)"
   ]
  },
  {
   "cell_type": "markdown",
   "metadata": {},
   "source": [
    "### Score / evaluate model\n",
    "Predict values for the test set and compare against the real values"
   ]
  },
  {
   "cell_type": "markdown",
   "metadata": {},
   "source": [
    "Let's start with the RMSE metric - the standard metric for regression analysis.\n",
    "\n",
    "Remember that this metric is the square root of the mean of the squared differences between each predicted / true pair."
   ]
  },
  {
   "cell_type": "code",
   "execution_count": 7,
   "metadata": {
    "ExecuteTime": {
     "end_time": "2020-07-16T22:42:38.534580Z",
     "start_time": "2020-07-16T22:42:38.523609Z"
    }
   },
   "outputs": [
    {
     "name": "stdout",
     "output_type": "stream",
     "text": [
      "Root mean squared error: 86.76\n",
      "i.e. roughly 87 bicycles\n"
     ]
    }
   ],
   "source": [
    "from sklearn.metrics import mean_squared_error\n",
    "rmse = mean_squared_error(test_y, pred_y)**0.5\n",
    "print(f'Root mean squared error: {rmse:0.2f}')\n",
    "print(f'i.e. roughly {rmse:0.0f} bicycles')"
   ]
  },
  {
   "cell_type": "markdown",
   "metadata": {},
   "source": [
    "Let's think about that number in the context of the average number of bicycles"
   ]
  },
  {
   "cell_type": "code",
   "execution_count": 8,
   "metadata": {
    "ExecuteTime": {
     "end_time": "2020-07-16T22:42:38.552533Z",
     "start_time": "2020-07-16T22:42:38.541557Z"
    }
   },
   "outputs": [
    {
     "name": "stdout",
     "output_type": "stream",
     "text": [
      "Average bicycles: 234.6663613464621\n",
      "So the RMSE is about 37.0% of the average number of bicycles\n"
     ]
    }
   ],
   "source": [
    "print(f'Average bicycles: {test_y.values.mean()}')\n",
    "print(f'So the RMSE is about {(rmse/test_y.values.mean()):0.1%} of the average number of bicycles')"
   ]
  },
  {
   "cell_type": "markdown",
   "metadata": {},
   "source": [
    "Ouch... the average error in the model is quite large compared to the average number of bicycles!\n",
    "\n",
    "OK so we already know it's not a great model. Anyway, let's check it out a little more.\n",
    "\n",
    "How about how well the predicted values correlate to the true values? Let's look at the coefficient of determination, also called the r-squared value."
   ]
  },
  {
   "cell_type": "code",
   "execution_count": 9,
   "metadata": {
    "ExecuteTime": {
     "end_time": "2020-07-16T22:42:38.570481Z",
     "start_time": "2020-07-16T22:42:38.557515Z"
    }
   },
   "outputs": [
    {
     "data": {
      "text/plain": [
       "0.8275081896530512"
      ]
     },
     "execution_count": 9,
     "metadata": {},
     "output_type": "execute_result"
    }
   ],
   "source": [
    "from sklearn.metrics import r2_score\n",
    "r2_score(test_y, pred_y)"
   ]
  },
  {
   "cell_type": "markdown",
   "metadata": {},
   "source": [
    "So it's not too far off a good correlation but let's see how that actually looks when we plot the predicted values against the true values."
   ]
  },
  {
   "cell_type": "code",
   "execution_count": 10,
   "metadata": {
    "ExecuteTime": {
     "end_time": "2020-07-16T22:42:39.228721Z",
     "start_time": "2020-07-16T22:42:38.576468Z"
    }
   },
   "outputs": [
    {
     "data": {
      "image/png": "[encoded data removed]",
      "text/plain": [
       "<Figure size 432x288 with 1 Axes>"
      ]
     },
     "metadata": {
      "needs_background": "light"
     },
     "output_type": "display_data"
    }
   ],
   "source": [
    "fig, ax = plt.subplots()\n",
    "ax.scatter(test_y, pred_y, color='blue', linewidth=3)\n",
    "ax.set_xlabel('True')\n",
    "ax.set_ylabel('Predicted')\n",
    "# add an accuracy guide\n",
    "x = np.linspace(*ax.get_xlim(),10)\n",
    "ax.plot(x,x,c='red')\n",
    "plt.show()"
   ]
  },
  {
   "cell_type": "markdown",
   "metadata": {},
   "source": [
    "Clearly the correlation starts off well but the model falters at higher values. Lastly let's take a look at which features are most influential with respect to the predictions."
   ]
  },
  {
   "cell_type": "code",
   "execution_count": 11,
   "metadata": {
    "ExecuteTime": {
     "end_time": "2020-07-16T22:42:39.884965Z",
     "start_time": "2020-07-16T22:42:39.232709Z"
    }
   },
   "outputs": [
    {
     "data": {
      "image/png": "[encoded data removed]",
      "text/plain": [
       "<Figure size 432x288 with 1 Axes>"
      ]
     },
     "metadata": {
      "needs_background": "light"
     },
     "output_type": "display_data"
    }
   ],
   "source": [
    "fig, ax = plt.subplots()\n",
    "ax.barh(\n",
    "    y=train_X.columns,\n",
    "    width=model.feature_importances_\n",
    ")\n",
    "\n",
    "# add labels\n",
    "ax.set_xlabel('Feature importance')\n",
    "ax.set_ylabel('Feature')\n",
    "\n",
    "# add data labels for significant features\n",
    "for rect in ax.patches:\n",
    "    xpos = rect.get_width()\n",
    "    ypos = rect.get_y() + rect.get_height()/2\n",
    "    label = f'{xpos:0.2f}' if xpos>0.02 else ''\n",
    "    ax.annotate(\n",
    "        label, xy=(xpos,ypos), xytext=(15,-5),\n",
    "        textcoords='offset points', ha='center', va='bottom'\n",
    "    )\n",
    "\n",
    "# extend the x-axis a bit to accommodate the data label\n",
    "ax.set_xlim(right=ax.get_xlim()[1]*1.1)\n",
    "\n",
    "plt.show()"
   ]
  },
  {
   "cell_type": "markdown",
   "metadata": {},
   "source": [
    "The vast majority of the calculation is driven by the previous hour's total. This makes total sense. The number of bicycles fluctuates during the day but not wildly, so it's reasonable for the total in one hour to be not too far above or below the total for the previous hour or indeed the next hour.\n",
    "\n",
    "However let's pause for a minute here. Whether or not this is useful will depend on your real-world application. Why would you need to know the number of bicycles in any particular hour?\n",
    "\n",
    "* You might want to forecast your revenue in real time\n",
    "* You might want to check that the actual number matches some expectation\n",
    "* You might want to plan out how many bikes you need on hand at any time\n",
    "\n",
    "In the first two scenarios this model may suffice as you would get the previous hour's data in time to make this prediction, however in the last scenario, you wouldn't get the previous hour's total in time to move bikes to where you need them to be to have enough for people to rent. In that case this model would be useless because you wouldn't have the inputs at the time you needed them. The predictions would not be timely."
   ]
  }
 ],
 "metadata": {
  "kernelspec": {
   "display_name": "base",
   "language": "python",
   "name": "base"
  },
  "language_info": {
   "codemirror_mode": {
    "name": "ipython",
    "version": 3
   },
   "file_extension": ".py",
   "mimetype": "text/x-python",
   "name": "python",
   "nbconvert_exporter": "python",
   "pygments_lexer": "ipython3",
   "version": "3.7.3"
  }
 },
 "nbformat": 4,
 "nbformat_minor": 2
}
