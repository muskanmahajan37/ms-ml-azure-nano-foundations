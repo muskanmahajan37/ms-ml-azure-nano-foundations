{
 "cells": [
  {
   "cell_type": "markdown",
   "metadata": {},
   "source": [
    "# Practice Python Challenge [03 - List Less Than 10](https://www.practicepython.org/exercise/2014/02/15/03-list-less-than-ten.html)\n",
    "## Exercise 3\n",
    "Take a list, say for example this one:\n",
    "\n",
    ">  a = [1, 1, 2, 3, 5, 8, 13, 21, 34, 55, 89]\n",
    "\n",
    "and write a program that prints out all the elements of the list that are less than 5.\n",
    "\n",
    "## Extras:\n",
    "* Instead of printing the elements one by one, make a new list that has all the elements less than 5 from this list in it and print out this new list.\n",
    "* Write this in one line of Python.\n",
    "* Ask the user for a number and return a list that contains only elements from the original list a that are smaller than that number given by the user.\n",
    "\n",
    "*Solution by Aleem Juma*"
   ]
  },
  {
   "cell_type": "code",
   "execution_count": 1,
   "metadata": {
    "ExecuteTime": {
     "end_time": "2020-07-18T19:55:32.721991Z",
     "start_time": "2020-07-18T19:55:32.717007Z"
    }
   },
   "outputs": [],
   "source": [
    "a = [1, 1, 2, 3, 5, 8, 13, 21, 34, 55, 89]"
   ]
  },
  {
   "cell_type": "code",
   "execution_count": 2,
   "metadata": {
    "ExecuteTime": {
     "end_time": "2020-07-18T19:55:32.738945Z",
     "start_time": "2020-07-18T19:55:32.723987Z"
    }
   },
   "outputs": [
    {
     "name": "stdout",
     "output_type": "stream",
     "text": [
      "1\n",
      "1\n",
      "2\n",
      "3\n"
     ]
    }
   ],
   "source": [
    "def solution_1():\n",
    "    for i in range(len(a)):\n",
    "        if a[i] < 5:\n",
    "            print(a[i])\n",
    "solution_1()"
   ]
  },
  {
   "cell_type": "code",
   "execution_count": 3,
   "metadata": {
    "ExecuteTime": {
     "end_time": "2020-07-18T19:55:32.748920Z",
     "start_time": "2020-07-18T19:55:32.741941Z"
    }
   },
   "outputs": [
    {
     "name": "stdout",
     "output_type": "stream",
     "text": [
      "[1, 1, 2, 3]\n"
     ]
    }
   ],
   "source": [
    "def solution_2():\n",
    "    new_list = []\n",
    "    for i in range(len(a)):\n",
    "        if a[i] < 5:\n",
    "            new_list.append(a[i])\n",
    "    print(new_list)\n",
    "solution_2()"
   ]
  },
  {
   "cell_type": "code",
   "execution_count": 4,
   "metadata": {
    "ExecuteTime": {
     "end_time": "2020-07-18T19:55:32.762883Z",
     "start_time": "2020-07-18T19:55:32.751912Z"
    }
   },
   "outputs": [
    {
     "name": "stdout",
     "output_type": "stream",
     "text": [
      "[1, 1, 2, 3]\n"
     ]
    }
   ],
   "source": [
    "def solution_3():\n",
    "    print([i for i in a if i < 5])\n",
    "solution_3()"
   ]
  },
  {
   "cell_type": "code",
   "execution_count": 5,
   "metadata": {
    "ExecuteTime": {
     "end_time": "2020-07-18T19:55:37.339570Z",
     "start_time": "2020-07-18T19:55:32.765875Z"
    }
   },
   "outputs": [
    {
     "name": "stdout",
     "output_type": "stream",
     "text": [
      "Enter a number to split the list: 15\n",
      "[1, 1, 2, 3, 5, 8, 13]\n"
     ]
    }
   ],
   "source": [
    "def solution_4():\n",
    "    p = input('Enter a number to split the list: ')\n",
    "    print([i for i in a if i < int(p)])\n",
    "solution_4()"
   ]
  }
 ],
 "metadata": {
  "kernelspec": {
   "display_name": "base",
   "language": "python",
   "name": "base"
  },
  "language_info": {
   "codemirror_mode": {
    "name": "ipython",
    "version": 3
   },
   "file_extension": ".py",
   "mimetype": "text/x-python",
   "name": "python",
   "nbconvert_exporter": "python",
   "pygments_lexer": "ipython3",
   "version": "3.7.3"
  }
 },
 "nbformat": 4,
 "nbformat_minor": 4
}
