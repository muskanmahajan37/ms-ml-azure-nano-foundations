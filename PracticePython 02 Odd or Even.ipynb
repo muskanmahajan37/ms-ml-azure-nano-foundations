{
 "cells": [
  {
   "cell_type": "markdown",
   "metadata": {},
   "source": [
    "# Practice Python Challenge [02 - Odd or Even](https://www.practicepython.org/exercise/2014/02/05/02-odd-or-even.html)\n",
    "\n",
    "## Exercise 2\n",
    "* Ask the user for a number. Depending on whether the number is even or odd, print out an appropriate message to the user. Hint: how does an even / odd number react differently when divided by 2?\n",
    "\n",
    "## Extras:\n",
    "* If the number is a multiple of 4, print out a different message.\n",
    "* Ask the user for two numbers: one number to check (call it num) and one number to divide by (check). If check divides evenly into num, tell that to the user. If not, print a different appropriate message.\n",
    "\n",
    "*Solution by Aleem Juma*"
   ]
  },
  {
   "cell_type": "code",
   "execution_count": 1,
   "metadata": {
    "ExecuteTime": {
     "end_time": "2020-07-18T19:39:41.324754Z",
     "start_time": "2020-07-18T19:39:41.319126Z"
    }
   },
   "outputs": [],
   "source": [
    "def get_number(prompt=''):\n",
    "    '''\n",
    "    Repeatedly asks the user for input until a valid whole number is entered\n",
    "    \n",
    "    Parameters:\n",
    "    -----------\n",
    "    prompt    optional, string prompt for the input\n",
    "    '''\n",
    "    value = 0\n",
    "    # start an infinite loop\n",
    "    while True:\n",
    "        try:\n",
    "            # get input from the user\n",
    "            number = input(prompt)\n",
    "            value = int(number)\n",
    "            break\n",
    "        except ValueError:\n",
    "            # capture error if the input can't be interpreted as an integer\n",
    "            print('Please enter a valid whole number')\n",
    "        except (EOFError, KeyboardInterrupt):\n",
    "            # capture error if the user interrupts the program\n",
    "            break\n",
    "    return value"
   ]
  },
  {
   "cell_type": "code",
   "execution_count": 2,
   "metadata": {
    "ExecuteTime": {
     "end_time": "2020-07-18T19:39:51.709680Z",
     "start_time": "2020-07-18T19:39:41.327103Z"
    }
   },
   "outputs": [
    {
     "name": "stdout",
     "output_type": "stream",
     "text": [
      "Enter a number to divide: 41\n",
      "Enter a number to divide by: 6\n",
      "6 goes into 41 6 times, with remainder 5\n"
     ]
    }
   ],
   "source": [
    "num = get_number('Enter a number to divide: ')\n",
    "check = get_number('Enter a number to divide by: ')\n",
    "print(f'{check} goes into {num} {num//check} times', end='')\n",
    "if (num % check == 0):\n",
    "    print(f' exactly.')\n",
    "else:\n",
    "    print(f', with remainder {num%check}')"
   ]
  }
 ],
 "metadata": {
  "kernelspec": {
   "display_name": "base",
   "language": "python",
   "name": "base"
  },
  "language_info": {
   "codemirror_mode": {
    "name": "ipython",
    "version": 3
   },
   "file_extension": ".py",
   "mimetype": "text/x-python",
   "name": "python",
   "nbconvert_exporter": "python",
   "pygments_lexer": "ipython3",
   "version": "3.7.3"
  }
 },
 "nbformat": 4,
 "nbformat_minor": 4
}
