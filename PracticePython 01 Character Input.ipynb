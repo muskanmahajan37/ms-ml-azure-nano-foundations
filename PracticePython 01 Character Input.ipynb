{
 "cells": [
  {
   "cell_type": "markdown",
   "metadata": {},
   "source": [
    "# Practice Python Challenge [01 - Character Input](https://www.practicepython.org/exercise/2014/01/29/01-character-input.htm)\n",
    "\n",
    "## Exercise 1\n",
    "* Create a program that asks the user to enter their name and their age. Print out a message addressed to them that tells them the year that they will turn 100 years old.\n",
    "\n",
    "### Extras:\n",
    "* Add on to the previous program by asking the user for another number and printing out that many copies of the previous message. (Hint: order of operations exists in Python)\n",
    "* Print out that many copies of the previous message on separate lines. (Hint: the string \"\\n is the same as pressing the ENTER button)\n",
    "\n",
    "*Solution by Aleem Juma*"
   ]
  },
  {
   "cell_type": "code",
   "execution_count": 1,
   "metadata": {
    "ExecuteTime": {
     "end_time": "2020-07-18T21:22:41.208694Z",
     "start_time": "2020-07-18T21:22:41.202713Z"
    }
   },
   "outputs": [],
   "source": [
    "def get_number(prompt):\n",
    "    while True:                                     # start an infinite loop\n",
    "        number = input(prompt)                      # ask for input from the user\n",
    "        try:\n",
    "            value = int(number)                     # error if can't be converted to integer\n",
    "            break                                   # if no error, break out of the infinite loop\n",
    "        except:\n",
    "            print(f'Please enter a whole number')   # give the instructions to the user\n",
    "    return value"
   ]
  },
  {
   "cell_type": "code",
   "execution_count": 2,
   "metadata": {
    "ExecuteTime": {
     "end_time": "2020-07-18T21:22:56.238415Z",
     "start_time": "2020-07-18T21:22:41.210691Z"
    }
   },
   "outputs": [
    {
     "name": "stdout",
     "output_type": "stream",
     "text": [
      "Enter your name: Aleem\n",
      "Enter your age: 20\n",
      "Have you had your birthday yet this year?\n",
      "Enter Y if it's today (Y/N): N\n",
      "Enter the number of times to repeat the message: 4\n"
     ]
    }
   ],
   "source": [
    "name = input('Enter your name: ')\n",
    "age = input('Enter your age: ')\n",
    "print('Have you had your birthday yet this year?')\n",
    "bday = input('Enter Y if it\\'s today (Y/N): ')\n",
    "repeats = input('Enter the number of times to repeat the message: ')"
   ]
  },
  {
   "cell_type": "code",
   "execution_count": 3,
   "metadata": {
    "ExecuteTime": {
     "end_time": "2020-07-18T21:22:56.246139Z",
     "start_time": "2020-07-18T21:22:56.240114Z"
    }
   },
   "outputs": [
    {
     "name": "stdout",
     "output_type": "stream",
     "text": [
      "Aleem, you will turn 100 in the year 2099\n",
      "Aleem, you will turn 100 in the year 2099\n",
      "Aleem, you will turn 100 in the year 2099\n",
      "Aleem, you will turn 100 in the year 2099\n"
     ]
    }
   ],
   "source": [
    "from datetime import datetime\n",
    "year_at_100 = (datetime.today().year - int(age)) + (99 if bday=='N' else 100)\n",
    "for i in range(int(repeats)):\n",
    "    print(f'{name}, you will turn 100 in the year {year_at_100}')"
   ]
  }
 ],
 "metadata": {
  "kernelspec": {
   "display_name": "base",
   "language": "python",
   "name": "base"
  },
  "language_info": {
   "codemirror_mode": {
    "name": "ipython",
    "version": 3
   },
   "file_extension": ".py",
   "mimetype": "text/x-python",
   "name": "python",
   "nbconvert_exporter": "python",
   "pygments_lexer": "ipython3",
   "version": "3.7.3"
  }
 },
 "nbformat": 4,
 "nbformat_minor": 4
}
